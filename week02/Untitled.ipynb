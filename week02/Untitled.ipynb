{
 "cells": [
  {
   "cell_type": "code",
   "execution_count": 1,
   "metadata": {
    "collapsed": true
   },
   "outputs": [],
   "source": [
    "import networkx as nx\n",
    "import pandas as pd\n",
    "import matplotlib.pyplot as plt"
   ]
  },
  {
   "cell_type": "code",
   "execution_count": 2,
   "metadata": {},
   "outputs": [
    {
     "data": {
      "text/html": [
       "<div>\n",
       "<style scoped>\n",
       "    .dataframe tbody tr th:only-of-type {\n",
       "        vertical-align: middle;\n",
       "    }\n",
       "\n",
       "    .dataframe tbody tr th {\n",
       "        vertical-align: top;\n",
       "    }\n",
       "\n",
       "    .dataframe thead th {\n",
       "        text-align: right;\n",
       "    }\n",
       "</style>\n",
       "<table border=\"1\" class=\"dataframe\">\n",
       "  <thead>\n",
       "    <tr style=\"text-align: right;\">\n",
       "      <th></th>\n",
       "      <th>source</th>\n",
       "      <th>target</th>\n",
       "      <th>value</th>\n",
       "    </tr>\n",
       "  </thead>\n",
       "  <tbody>\n",
       "    <tr>\n",
       "      <td>0</td>\n",
       "      <td>azure</td>\n",
       "      <td>.net</td>\n",
       "      <td>20.933192</td>\n",
       "    </tr>\n",
       "    <tr>\n",
       "      <td>1</td>\n",
       "      <td>sql-server</td>\n",
       "      <td>.net</td>\n",
       "      <td>32.322524</td>\n",
       "    </tr>\n",
       "    <tr>\n",
       "      <td>2</td>\n",
       "      <td>asp.net</td>\n",
       "      <td>.net</td>\n",
       "      <td>48.407030</td>\n",
       "    </tr>\n",
       "    <tr>\n",
       "      <td>3</td>\n",
       "      <td>entity-framework</td>\n",
       "      <td>.net</td>\n",
       "      <td>24.370903</td>\n",
       "    </tr>\n",
       "    <tr>\n",
       "      <td>4</td>\n",
       "      <td>wpf</td>\n",
       "      <td>.net</td>\n",
       "      <td>32.350925</td>\n",
       "    </tr>\n",
       "  </tbody>\n",
       "</table>\n",
       "</div>"
      ],
      "text/plain": [
       "             source target      value\n",
       "0             azure   .net  20.933192\n",
       "1        sql-server   .net  32.322524\n",
       "2           asp.net   .net  48.407030\n",
       "3  entity-framework   .net  24.370903\n",
       "4               wpf   .net  32.350925"
      ]
     },
     "execution_count": 2,
     "metadata": {},
     "output_type": "execute_result"
    }
   ],
   "source": [
    "edge= pd.read_csv('stackoverflow_edges.csv')\n",
    "edge.head()"
   ]
  },
  {
   "cell_type": "code",
   "execution_count": 26,
   "metadata": {
    "collapsed": true
   },
   "outputs": [],
   "source": [
    "G = nx.from_pandas_edgelist(edge)\n",
    "# plt.figure(figsize=(20,20))\n",
    "# nx.draw(G)\n",
    "# nx.draw(G,with_labels=True,edge_color='grey',node_color='yellow',node_size=200,pox=nx.shell_layout(G))\n",
    "nx.draw(G,with_labels=True,edge_color='red',node_color='grey',node_size=200,pox=nx.spring_layout(G,k=0.2,iterations=50))"
   ]
  },
  {
   "cell_type": "code",
   "execution_count": 19,
   "metadata": {},
   "outputs": [
    {
     "data": {
      "text/plain": [
       "{'.net': 0.07017543859649122,\n",
       " 'agile': 0.008771929824561403,\n",
       " 'ajax': 0.06140350877192982,\n",
       " 'amazon-web-services': 0.03508771929824561,\n",
       " 'android': 0.02631578947368421,\n",
       " 'android-studio': 0.008771929824561403,\n",
       " 'angular': 0.008771929824561403,\n",
       " 'angular2': 0.017543859649122806,\n",
       " 'angularjs': 0.11403508771929824,\n",
       " 'apache': 0.02631578947368421,\n",
       " 'apache-spark': 0.017543859649122806,\n",
       " 'api': 0.008771929824561403,\n",
       " 'asp.net': 0.11403508771929824,\n",
       " 'asp.net-web-api': 0.06140350877192982,\n",
       " 'azure': 0.043859649122807015,\n",
       " 'bash': 0.02631578947368421,\n",
       " 'bootstrap': 0.017543859649122806,\n",
       " 'c': 0.03508771929824561,\n",
       " 'c#': 0.12280701754385964,\n",
       " 'c++': 0.03508771929824561,\n",
       " 'cloud': 0.008771929824561403,\n",
       " 'codeigniter': 0.05263157894736842,\n",
       " 'css': 0.12280701754385964,\n",
       " 'devops': 0.02631578947368421,\n",
       " 'django': 0.02631578947368421,\n",
       " 'docker': 0.03508771929824561,\n",
       " 'drupal': 0.008771929824561403,\n",
       " 'eclipse': 0.008771929824561403,\n",
       " 'elasticsearch': 0.017543859649122806,\n",
       " 'embedded': 0.008771929824561403,\n",
       " 'entity-framework': 0.07017543859649122,\n",
       " 'excel': 0.017543859649122806,\n",
       " 'excel-vba': 0.017543859649122806,\n",
       " 'express': 0.043859649122807015,\n",
       " 'flask': 0.017543859649122806,\n",
       " 'git': 0.03508771929824561,\n",
       " 'github': 0.008771929824561403,\n",
       " 'go': 0.008771929824561403,\n",
       " 'hadoop': 0.017543859649122806,\n",
       " 'haskell': 0.008771929824561403,\n",
       " 'hibernate': 0.07894736842105263,\n",
       " 'html': 0.05263157894736842,\n",
       " 'html5': 0.08771929824561403,\n",
       " 'ionic-framework': 0.008771929824561403,\n",
       " 'ios': 0.05263157894736842,\n",
       " 'iphone': 0.03508771929824561,\n",
       " 'java': 0.07017543859649122,\n",
       " 'java-ee': 0.03508771929824561,\n",
       " 'javascript': 0.10526315789473684,\n",
       " 'jenkins': 0.03508771929824561,\n",
       " 'jquery': 0.14035087719298245,\n",
       " 'json': 0.03508771929824561,\n",
       " 'jsp': 0.03508771929824561,\n",
       " 'laravel': 0.03508771929824561,\n",
       " 'less': 0.02631578947368421,\n",
       " 'linq': 0.06140350877192982,\n",
       " 'linux': 0.08771929824561403,\n",
       " 'machine-learning': 0.017543859649122806,\n",
       " 'matlab': 0.008771929824561403,\n",
       " 'maven': 0.043859649122807015,\n",
       " 'mongodb': 0.07017543859649122,\n",
       " 'mvc': 0.008771929824561403,\n",
       " 'mysql': 0.09649122807017543,\n",
       " 'nginx': 0.02631578947368421,\n",
       " 'node.js': 0.06140350877192982,\n",
       " 'objective-c': 0.043859649122807015,\n",
       " 'oracle': 0.017543859649122806,\n",
       " 'osx': 0.03508771929824561,\n",
       " 'perl': 0.008771929824561403,\n",
       " 'photoshop': 0.008771929824561403,\n",
       " 'php': 0.08771929824561403,\n",
       " 'plsql': 0.017543859649122806,\n",
       " 'postgresql': 0.05263157894736842,\n",
       " 'powershell': 0.008771929824561403,\n",
       " 'python': 0.06140350877192982,\n",
       " 'qt': 0.008771929824561403,\n",
       " 'r': 0.02631578947368421,\n",
       " 'react-native': 0.02631578947368421,\n",
       " 'reactjs': 0.07017543859649122,\n",
       " 'redis': 0.03508771929824561,\n",
       " 'redux': 0.03508771929824561,\n",
       " 'regex': 0.008771929824561403,\n",
       " 'rest': 0.043859649122807015,\n",
       " 'ruby': 0.017543859649122806,\n",
       " 'ruby-on-rails': 0.017543859649122806,\n",
       " 'sass': 0.07894736842105263,\n",
       " 'scala': 0.02631578947368421,\n",
       " 'selenium': 0.008771929824561403,\n",
       " 'shell': 0.017543859649122806,\n",
       " 'spring': 0.07894736842105263,\n",
       " 'spring-boot': 0.02631578947368421,\n",
       " 'spring-mvc': 0.06140350877192982,\n",
       " 'sql': 0.043859649122807015,\n",
       " 'sql-server': 0.07894736842105263,\n",
       " 'swift': 0.03508771929824561,\n",
       " 'tdd': 0.008771929824561403,\n",
       " 'testing': 0.008771929824561403,\n",
       " 'twitter-bootstrap': 0.05263157894736842,\n",
       " 'twitter-bootstrap-3': 0.017543859649122806,\n",
       " 'typescript': 0.017543859649122806,\n",
       " 'ubuntu': 0.008771929824561403,\n",
       " 'unity3d': 0.008771929824561403,\n",
       " 'unix': 0.008771929824561403,\n",
       " 'vb.net': 0.02631578947368421,\n",
       " 'vba': 0.017543859649122806,\n",
       " 'visual-studio': 0.008771929824561403,\n",
       " 'vue.js': 0.008771929824561403,\n",
       " 'wcf': 0.07017543859649122,\n",
       " 'web-services': 0.02631578947368421,\n",
       " 'windows': 0.02631578947368421,\n",
       " 'wordpress': 0.05263157894736842,\n",
       " 'wpf': 0.05263157894736842,\n",
       " 'xamarin': 0.008771929824561403,\n",
       " 'xcode': 0.03508771929824561,\n",
       " 'xml': 0.008771929824561403}"
      ]
     },
     "execution_count": 19,
     "metadata": {},
     "output_type": "execute_result"
    }
   ],
   "source": [
    "# nx.degree(G)\n",
    "# nx.degree_centrality(G)\n",
    "# nx.betweenness_centrality(G)\n",
    "# nx.closeness_centrality(G)\n",
    "# nx.katz_centrality(G)"
   ]
  },
  {
   "cell_type": "code",
   "execution_count": 20,
   "metadata": {},
   "outputs": [
    {
     "data": {
      "text/plain": [
       "0.4602444898097073"
      ]
     },
     "execution_count": 20,
     "metadata": {},
     "output_type": "execute_result"
    }
   ],
   "source": [
    "# nx.clustering(G)\n",
    "nx.average_clustering(G)"
   ]
  },
  {
   "cell_type": "code",
   "execution_count": 21,
   "metadata": {},
   "outputs": [
    {
     "data": {
      "text/plain": [
       "4.507862550960978"
      ]
     },
     "execution_count": 21,
     "metadata": {},
     "output_type": "execute_result"
    }
   ],
   "source": [
    "list(nx.connected_components(G))\n",
    "\n",
    "Sub_G = G.subgraph(list(nx.connected_components(G))[0])#extract the max sub graph\n",
    "# nx.average_clustering(Sub_G)#计算网络的聚类系数\n",
    "# nx.average_shortest_path_length(Sub_G)#计算网络的平均路径"
   ]
  },
  {
   "cell_type": "code",
   "execution_count": 22,
   "metadata": {
    "collapsed": true
   },
   "outputs": [],
   "source": [
    "nx.draw(Sub_G)"
   ]
  },
  {
   "cell_type": "code",
   "execution_count": null,
   "metadata": {
    "collapsed": true
   },
   "outputs": [],
   "source": []
  }
 ],
 "metadata": {
  "kernelspec": {
   "display_name": "Python 3",
   "language": "python",
   "name": "python3"
  },
  "language_info": {
   "codemirror_mode": {
    "name": "ipython",
    "version": 3
   },
   "file_extension": ".py",
   "mimetype": "text/x-python",
   "name": "python",
   "nbconvert_exporter": "python",
   "pygments_lexer": "ipython3",
   "version": "3.6.5"
  }
 },
 "nbformat": 4,
 "nbformat_minor": 2
}
